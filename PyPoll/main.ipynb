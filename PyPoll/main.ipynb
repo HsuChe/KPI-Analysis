{
 "cells": [
  {
   "cell_type": "code",
   "execution_count": 1,
   "id": "f4824e72",
   "metadata": {},
   "outputs": [],
   "source": [
    "import os\n",
    "import csv"
   ]
  },
  {
   "cell_type": "code",
   "execution_count": 2,
   "id": "b9b83a41",
   "metadata": {},
   "outputs": [],
   "source": [
    "poll_csvpath = os.path.join(\"Resources\",\"election_data.csv\")"
   ]
  },
  {
   "cell_type": "code",
   "execution_count": 36,
   "id": "9797ad13",
   "metadata": {},
   "outputs": [],
   "source": [
    "def CandidateCounter(candidate, data_list):\n",
    "    cc = 0\n",
    "    for vote in data_list:\n",
    "        if vote[2] == candidate:\n",
    "            cc += 1\n",
    "    return cc\n",
    "\n",
    "def CandidatePercent (candidate_vote,total):\n",
    "    return round((candidate_vote/total),2)\n",
    "\n",
    "def winner(CandidateDict):\n",
    "    winner = \"\"\n",
    "    winning_vote = 0\n",
    "    for candidate in CandidateDict:\n",
    "        if CandidateDict[candidate][0] > winning_vote:\n",
    "            winning_vote = CandidateDict[candidate][0]\n",
    "            winner = candidate\n",
    "    return winner\n",
    "\n",
    "def parser (CandidateDict):\n",
    "    string = f'''\n",
    "\n",
    "        Election Results\n",
    "        -------------------------\n",
    "        Total Votes: {CandidateDict['Total']}\n",
    "        -------------------------\n",
    "        Khan: {(CandidateDict['Khan'][1])*100}% ({CandidateDict['Khan'][0]})\n",
    "        Correy: {(CandidateDict['Correy'][1])*100}% ({CandidateDict['Correy'][0]})\n",
    "        Li: {(CandidateDict['Li'][1])*100}% ({CandidateDict['Li'][0]})\n",
    "        O'Tooley: {round(CandidateDict[\"O'Tooley\"][1],3)*100}% ({CandidateDict[\"O'Tooley\"][0]})\n",
    "        -------------------------\n",
    "        Winner: {CandidateDict['Winner']}\n",
    "        -------------------------\n",
    "\n",
    "        '''\n",
    "    return string"
   ]
  },
  {
   "cell_type": "code",
   "execution_count": 37,
   "id": "bbe90291",
   "metadata": {},
   "outputs": [
    {
     "output_type": "stream",
     "name": "stdout",
     "text": [
      "\n\n        Election Results\n        -------------------------\n        Total Votes: 3521001\n        -------------------------\n        Khan: 63.0% (2218231)\n        Correy: 20.0% (704200)\n        Li: 14.000000000000002% (492940)\n        O'Tooley: 3.0% (105630)\n        -------------------------\n        Winner: Khan\n        -------------------------\n\n        \n"
     ]
    }
   ],
   "source": [
    "with open(poll_csvpath) as csvfile:\n",
    "    csvreader = csv.reader(csvfile, delimiter = ',')\n",
    "    csvlist = []\n",
    "    for row in csvreader:\n",
    "        csvlist.append(row)\n",
    "    total_vote = len(csvlist)-1\n",
    "    \n",
    "# list of candidates who recieved votes\n",
    "    UniqueCandidate = []\n",
    "    for vote in range(1,len(csvlist)):\n",
    "        if csvlist[vote][2] not in UniqueCandidate:\n",
    "            UniqueCandidate.append(csvlist[vote][2])\n",
    "    \n",
    "    CandidateInformation = {}\n",
    "    for candidate in UniqueCandidate:\n",
    "        CandidateInformation[candidate] = [CandidateCounter(candidate, csvlist),\n",
    "                                           CandidatePercent(CandidateCounter(candidate, csvlist),total_vote)]\n",
    "\n",
    "    CandidateInformation['Winner'] = winner(CandidateInformation)\n",
    "    CandidateInformation['Total'] = total_vote\n",
    "    \n",
    "    print(parser(CandidateInformation))"
   ]
  },
  {
   "cell_type": "code",
   "execution_count": 8,
   "id": "84cc6020",
   "metadata": {},
   "outputs": [],
   "source": []
  },
  {
   "cell_type": "code",
   "execution_count": null,
   "id": "c4a09408",
   "metadata": {},
   "outputs": [],
   "source": []
  },
  {
   "cell_type": "code",
   "execution_count": null,
   "id": "a3ed7c3f",
   "metadata": {},
   "outputs": [],
   "source": []
  },
  {
   "cell_type": "code",
   "execution_count": null,
   "id": "6ff28d8d",
   "metadata": {},
   "outputs": [],
   "source": []
  },
  {
   "cell_type": "code",
   "execution_count": null,
   "id": "e167d13f",
   "metadata": {},
   "outputs": [],
   "source": []
  },
  {
   "cell_type": "code",
   "execution_count": null,
   "id": "dbcff540",
   "metadata": {},
   "outputs": [],
   "source": []
  },
  {
   "cell_type": "code",
   "execution_count": null,
   "id": "1950c094",
   "metadata": {},
   "outputs": [],
   "source": []
  },
  {
   "cell_type": "code",
   "execution_count": null,
   "id": "aa5a278a",
   "metadata": {},
   "outputs": [],
   "source": []
  },
  {
   "cell_type": "code",
   "execution_count": null,
   "id": "783bf798",
   "metadata": {},
   "outputs": [],
   "source": []
  },
  {
   "cell_type": "code",
   "execution_count": null,
   "id": "7b83ebe8",
   "metadata": {},
   "outputs": [],
   "source": []
  }
 ],
 "metadata": {
  "kernelspec": {
   "name": "python3",
   "display_name": "Python 3.8.8 64-bit ('base': conda)"
  },
  "language_info": {
   "codemirror_mode": {
    "name": "ipython",
    "version": 3
   },
   "file_extension": ".py",
   "mimetype": "text/x-python",
   "name": "python",
   "nbconvert_exporter": "python",
   "pygments_lexer": "ipython3",
   "version": "3.8.8"
  },
  "interpreter": {
   "hash": "2b3fdd6b55428dfbcf1d35927dad233ac9d84a773d18215ec5e263ea0d5e3a08"
  }
 },
 "nbformat": 4,
 "nbformat_minor": 5
}