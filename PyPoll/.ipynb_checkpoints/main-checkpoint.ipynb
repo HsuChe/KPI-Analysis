{
 "cells": [
  {
   "cell_type": "code",
   "execution_count": 1,
   "id": "f4824e72",
   "metadata": {},
   "outputs": [],
   "source": [
    "import os\n",
    "import csv"
   ]
  },
  {
   "cell_type": "code",
   "execution_count": 2,
   "id": "b9b83a41",
   "metadata": {},
   "outputs": [],
   "source": [
    "poll_csvpath = os.path.join(\"Resources\",\"election_data.csv\")"
   ]
  },
  {
   "cell_type": "code",
   "execution_count": 3,
   "id": "9797ad13",
   "metadata": {},
   "outputs": [],
   "source": [
    "def CandidateCounter(candidate, data_list):\n",
    "    cc = 0\n",
    "    for vote in data_list:\n",
    "        if vote[2] == candidate:\n",
    "            cc += 1\n",
    "    return cc\n",
    "\n",
    "def CandidatePercent (candidate_vote,total):\n",
    "    return candidate_vote/total\n",
    "\n",
    "def winner(CandidateDict):\n",
    "    winner = \"\"\n",
    "    winning_vote = 0\n",
    "    for candidate in CandidateDict:\n",
    "        if CandidateDict[candidate][0] > winning_vote:\n",
    "            winning_vote = CandidateDict[candidate][0]\n",
    "            winner = candidate\n",
    "    return winner\n"
   ]
  },
  {
   "cell_type": "code",
   "execution_count": 23,
   "id": "bbe90291",
   "metadata": {},
   "outputs": [
    {
     "name": "stdout",
     "output_type": "stream",
     "text": [
      "<_io.TextIOWrapper name='Resources\\\\election_data.csv' mode='r' encoding='cp1252'>\n"
     ]
    }
   ],
   "source": [
    "with open(poll_csvpath) as csvfile:\n",
    "    print(csvfile)\n",
    "    csvreader = csv.reader(csvfile, delimiter = ',')\n",
    "    csvlist = []\n",
    "    for row in csvreader:\n",
    "        csvlist.append(row)\n",
    "    TotalVote = len(csvlist)-1\n",
    "    \n",
    "# list of candidates who recieved votes\n",
    "    UniqueCandidate = []\n",
    "    for vote in range(1,len(csvlist)):\n",
    "        if csvlist[vote][2] not in UniqueCandidate:\n",
    "            UniqueCandidate.append(csvlist[vote][2])\n",
    "            \n",
    "    def CandidateCounter (candidate, data_list):\n",
    "        cc = 0\n",
    "        for vote in data_list:\n",
    "            if vote[2] == candidate:\n",
    "                cc += 1\n",
    "        return cc\n",
    "    \n",
    "    CandidateInformation = {}\n",
    "    for candidate in UniqueCandidate:\n",
    "        CandidateInformation[candidate] = CandidateCounter(candidate, csvlist)"
   ]
  },
  {
   "cell_type": "code",
   "execution_count": 4,
   "id": "84cc6020",
   "metadata": {},
   "outputs": [],
   "source": [
    "csvreader = csv.reader(open(poll_csvpath))"
   ]
  },
  {
   "cell_type": "code",
   "execution_count": 5,
   "id": "c4a09408",
   "metadata": {},
   "outputs": [
    {
     "data": {
      "text/plain": [
       "3521001"
      ]
     },
     "execution_count": 5,
     "metadata": {},
     "output_type": "execute_result"
    }
   ],
   "source": [
    "csvlist = []\n",
    "for row in csvreader:\n",
    "    csvlist.append(row)\n",
    "\n",
    "total_vote = len(csvlist)-1\n",
    "total_vote"
   ]
  },
  {
   "cell_type": "code",
   "execution_count": 6,
   "id": "a3ed7c3f",
   "metadata": {},
   "outputs": [
    {
     "data": {
      "text/plain": [
       "['Candidate', 'Khan', 'Correy', 'Li', \"O'Tooley\"]"
      ]
     },
     "execution_count": 6,
     "metadata": {},
     "output_type": "execute_result"
    }
   ],
   "source": [
    "UniqueCandidate = []\n",
    "for vote in csvlist:\n",
    "    if vote[2] not in UniqueCandidate:\n",
    "        UniqueCandidate.append(vote[2])\n",
    "        \n",
    "UniqueCandidate\n",
    "        "
   ]
  },
  {
   "cell_type": "code",
   "execution_count": 7,
   "id": "6ff28d8d",
   "metadata": {},
   "outputs": [],
   "source": [
    "def CandidateCounter(candidate, data_list):\n",
    "    cc = 0\n",
    "    for vote in data_list:\n",
    "        if vote[2] == candidate:\n",
    "            cc += 1\n",
    "    return cc\n",
    "\n",
    "def CandidatePercent (candidate_vote,total):\n",
    "    return candidate_vote/total\n",
    "\n",
    "def winner(CandidateDict):\n",
    "    winner = \"\"\n",
    "    winning_vote = 0\n",
    "    for candidate in CandidateDict:\n",
    "        if CandidateDict[candidate][0] > winning_vote:\n",
    "            winning_vote = CandidateDict[candidate][0]\n",
    "            winner = candidate\n",
    "    return winner\n"
   ]
  },
  {
   "cell_type": "code",
   "execution_count": 8,
   "id": "e167d13f",
   "metadata": {},
   "outputs": [],
   "source": [
    "CandidateInformation = {}\n",
    "for candidate in UniqueCandidate:\n",
    "    CandidateInformation[candidate] = [CandidateCounter(candidate, csvlist),\n",
    "                                       round(CandidatePercent(CandidateCounter(candidate, csvlist),total_vote),2)]\n",
    "\n",
    "CandidateInformation['Winner'] = winner(CandidateInformation)"
   ]
  },
  {
   "cell_type": "code",
   "execution_count": 9,
   "id": "dbcff540",
   "metadata": {},
   "outputs": [
    {
     "data": {
      "text/plain": [
       "{'Candidate': [1, 0.0],\n",
       " 'Khan': [2218231, 0.63],\n",
       " 'Correy': [704200, 0.2],\n",
       " 'Li': [492940, 0.14],\n",
       " \"O'Tooley\": [105630, 0.03],\n",
       " 'Winner': 'Khan'}"
      ]
     },
     "execution_count": 9,
     "metadata": {},
     "output_type": "execute_result"
    }
   ],
   "source": [
    "CandidateInformation"
   ]
  },
  {
   "cell_type": "code",
   "execution_count": 10,
   "id": "1950c094",
   "metadata": {},
   "outputs": [
    {
     "name": "stdout",
     "output_type": "stream",
     "text": [
      "[1, 0.0]\n",
      "[2218231, 0.63]\n",
      "[704200, 0.2]\n",
      "[492940, 0.14]\n",
      "[105630, 0.03]\n",
      "Khan\n"
     ]
    },
    {
     "ename": "TypeError",
     "evalue": "'>' not supported between instances of 'str' and 'int'",
     "output_type": "error",
     "traceback": [
      "\u001b[1;31m---------------------------------------------------------------------------\u001b[0m",
      "\u001b[1;31mTypeError\u001b[0m                                 Traceback (most recent call last)",
      "\u001b[1;32m<ipython-input-10-26ecf75aad62>\u001b[0m in \u001b[0;36m<module>\u001b[1;34m\u001b[0m\n\u001b[0;32m      3\u001b[0m \u001b[1;32mfor\u001b[0m \u001b[0mcandidate\u001b[0m \u001b[1;32min\u001b[0m \u001b[0mCandidateInformation\u001b[0m\u001b[1;33m:\u001b[0m\u001b[1;33m\u001b[0m\u001b[1;33m\u001b[0m\u001b[0m\n\u001b[0;32m      4\u001b[0m     \u001b[0mprint\u001b[0m \u001b[1;33m(\u001b[0m\u001b[0mCandidateInformation\u001b[0m\u001b[1;33m[\u001b[0m\u001b[0mcandidate\u001b[0m\u001b[1;33m]\u001b[0m\u001b[1;33m)\u001b[0m\u001b[1;33m\u001b[0m\u001b[1;33m\u001b[0m\u001b[0m\n\u001b[1;32m----> 5\u001b[1;33m     \u001b[1;32mif\u001b[0m \u001b[0mCandidateInformation\u001b[0m\u001b[1;33m[\u001b[0m\u001b[0mcandidate\u001b[0m\u001b[1;33m]\u001b[0m\u001b[1;33m[\u001b[0m\u001b[1;36m0\u001b[0m\u001b[1;33m]\u001b[0m \u001b[1;33m>\u001b[0m \u001b[0mwinning_vote\u001b[0m\u001b[1;33m:\u001b[0m\u001b[1;33m\u001b[0m\u001b[1;33m\u001b[0m\u001b[0m\n\u001b[0m\u001b[0;32m      6\u001b[0m         \u001b[0mwinning_vote\u001b[0m \u001b[1;33m=\u001b[0m \u001b[0mCandidateInformation\u001b[0m\u001b[1;33m[\u001b[0m\u001b[0mcandidate\u001b[0m\u001b[1;33m]\u001b[0m\u001b[1;33m[\u001b[0m\u001b[1;36m0\u001b[0m\u001b[1;33m]\u001b[0m\u001b[1;33m\u001b[0m\u001b[1;33m\u001b[0m\u001b[0m\n\u001b[0;32m      7\u001b[0m         \u001b[0mwinner\u001b[0m \u001b[1;33m=\u001b[0m \u001b[0mcandidate\u001b[0m\u001b[1;33m\u001b[0m\u001b[1;33m\u001b[0m\u001b[0m\n",
      "\u001b[1;31mTypeError\u001b[0m: '>' not supported between instances of 'str' and 'int'"
     ]
    }
   ],
   "source": [
    "winner = \"\"\n",
    "winning_vote = 0\n",
    "for candidate in CandidateInformation:\n",
    "    print (CandidateInformation[candidate])\n",
    "    if CandidateInformation[candidate][0] > winning_vote:\n",
    "        winning_vote = CandidateInformation[candidate][0]\n",
    "        winner = candidate\n"
   ]
  },
  {
   "cell_type": "code",
   "execution_count": 11,
   "id": "aa5a278a",
   "metadata": {},
   "outputs": [
    {
     "data": {
      "text/plain": [
       "'Khan'"
      ]
     },
     "execution_count": 11,
     "metadata": {},
     "output_type": "execute_result"
    }
   ],
   "source": [
    "winner"
   ]
  },
  {
   "cell_type": "code",
   "execution_count": null,
   "id": "783bf798",
   "metadata": {},
   "outputs": [],
   "source": []
  }
 ],
 "metadata": {
  "kernelspec": {
   "display_name": "Python 3",
   "language": "python",
   "name": "python3"
  },
  "language_info": {
   "codemirror_mode": {
    "name": "ipython",
    "version": 3
   },
   "file_extension": ".py",
   "mimetype": "text/x-python",
   "name": "python",
   "nbconvert_exporter": "python",
   "pygments_lexer": "ipython3",
   "version": "3.8.8"
  }
 },
 "nbformat": 4,
 "nbformat_minor": 5
}
