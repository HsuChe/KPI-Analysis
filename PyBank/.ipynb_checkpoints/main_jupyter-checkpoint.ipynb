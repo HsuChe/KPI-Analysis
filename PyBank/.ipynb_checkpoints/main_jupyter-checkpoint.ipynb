{
 "cells": [
  {
   "cell_type": "code",
   "execution_count": 2,
   "id": "ce69901e",
   "metadata": {},
   "outputs": [],
   "source": [
    "import os\n",
    "import csv"
   ]
  },
  {
   "cell_type": "code",
   "execution_count": 3,
   "id": "5421a4f5",
   "metadata": {},
   "outputs": [],
   "source": [
    "csvpath = os.path.join(\"Resources\",\"budget_data.csv\")"
   ]
  },
  {
   "cell_type": "code",
   "execution_count": 50,
   "id": "7c6ef0dd",
   "metadata": {},
   "outputs": [
    {
     "name": "stdout",
     "output_type": "stream",
     "text": [
      "87\n",
      "['Jan-2010', '867884']\n",
      "['Feb-2010', '984655']\n",
      "['Mar-2010', '322013']\n",
      "['Apr-2010', '-69417']\n",
      "Total Month: 86\n",
      "Total: $38382578\n",
      "Average Change: $-2315.12\n"
     ]
    },
    {
     "ename": "NameError",
     "evalue": "name 'Index' is not defined",
     "output_type": "error",
     "traceback": [
      "\u001b[1;31m---------------------------------------------------------------------------\u001b[0m",
      "\u001b[1;31mNameError\u001b[0m                                 Traceback (most recent call last)",
      "\u001b[1;32m<ipython-input-50-f8b236d634f6>\u001b[0m in \u001b[0;36m<module>\u001b[1;34m\u001b[0m\n\u001b[0;32m     38\u001b[0m         \u001b[1;32mif\u001b[0m \u001b[0mGreatestIncrease\u001b[0m \u001b[1;33m<\u001b[0m \u001b[0mchange\u001b[0m\u001b[1;33m:\u001b[0m\u001b[1;33m\u001b[0m\u001b[1;33m\u001b[0m\u001b[0m\n\u001b[0;32m     39\u001b[0m             \u001b[0mGreatestIncrease\u001b[0m \u001b[1;33m=\u001b[0m \u001b[0mchange\u001b[0m\u001b[1;33m\u001b[0m\u001b[1;33m\u001b[0m\u001b[0m\n\u001b[1;32m---> 40\u001b[1;33m             \u001b[0mprint\u001b[0m\u001b[1;33m(\u001b[0m\u001b[0mIndex\u001b[0m\u001b[1;33m(\u001b[0m\u001b[0mChange\u001b[0m\u001b[1;33m)\u001b[0m\u001b[1;33m)\u001b[0m\u001b[1;33m\u001b[0m\u001b[1;33m\u001b[0m\u001b[0m\n\u001b[0m\u001b[0;32m     41\u001b[0m         \u001b[1;32mif\u001b[0m \u001b[0mGreatestDecrease\u001b[0m \u001b[1;33m>\u001b[0m \u001b[0mchange\u001b[0m\u001b[1;33m:\u001b[0m\u001b[1;33m\u001b[0m\u001b[1;33m\u001b[0m\u001b[0m\n\u001b[0;32m     42\u001b[0m             \u001b[0mGreatestDecrease\u001b[0m \u001b[1;33m=\u001b[0m \u001b[0mchange\u001b[0m\u001b[1;33m\u001b[0m\u001b[1;33m\u001b[0m\u001b[0m\n",
      "\u001b[1;31mNameError\u001b[0m: name 'Index' is not defined"
     ]
    }
   ],
   "source": [
    "with open(csvpath) as csvfile:\n",
    "    csvreader = csv.reader(csvfile, delimiter = ',')\n",
    "    csvlist = []\n",
    "    for row in csvreader:\n",
    "        csvlist.append(row)\n",
    "    print(len(csvlist))\n",
    "    for i in range(1,5):\n",
    "        print (csvlist[i])\n",
    "    # total number of month in dataset\n",
    "    print(f\"Total Month: {len(csvlist)-1}\")\n",
    "    \n",
    "    # total profit lost net\n",
    "    NetProfitLost = 0\n",
    "    for month in range(1,len(csvlist)):\n",
    "        NetProfitLost = NetProfitLost + int(csvlist[month][1])\n",
    "    print(f\"Total: ${NetProfitLost}\")\n",
    "\n",
    "    # average profit lost for the period\n",
    "    # iterate through each cell starting with range(1,len(csvlist))\n",
    "    TotalChange = 0\n",
    "    ChangeList = []\n",
    "    for month in range(1,len(csvlist)-1):\n",
    "        CurrentPrice, NextPrice = float(csvlist[month][1]), float(csvlist[month+1][1])\n",
    "        PriceChange = NextPrice - CurrentPrice\n",
    "        ChangeList.append(PriceChange)\n",
    "        TotalChange = TotalChange + PriceChange\n",
    "    AverageChange = sum(ChangeList) / len(ChangeList)\n",
    "    print(f\"Average Change: ${round(AverageChange,2)}\")\n",
    "        \n",
    "    # Change = NextPrice - CurrentPrice\n",
    "    # TotalChange = TotalChange + Change\n",
    "    # AverageChange = TotalChange / len(csvlist) - 1\n",
    "    \n",
    "    GreatestIncrease = 0\n",
    "    GreatestDecrease = 0\n",
    "    \n",
    "    for change in ChangeList:\n",
    "        if GreatestIncrease < change:\n",
    "            GreatestIncrease = change\n",
    "            print(index(Change))\n",
    "        if GreatestDecrease > change:\n",
    "            GreatestDecrease = change\n",
    "    \n",
    "    print(GreatestIncrease,GreatestDecrease)\n",
    "    print(GreatestIncrease,GreatestDecrease)"
   ]
  },
  {
   "cell_type": "code",
   "execution_count": null,
   "id": "c9ff9e12",
   "metadata": {},
   "outputs": [],
   "source": []
  },
  {
   "cell_type": "code",
   "execution_count": null,
   "id": "e3df518f",
   "metadata": {},
   "outputs": [],
   "source": []
  }
 ],
 "metadata": {
  "kernelspec": {
   "display_name": "Python 3",
   "language": "python",
   "name": "python3"
  },
  "language_info": {
   "codemirror_mode": {
    "name": "ipython",
    "version": 3
   },
   "file_extension": ".py",
   "mimetype": "text/x-python",
   "name": "python",
   "nbconvert_exporter": "python",
   "pygments_lexer": "ipython3",
   "version": "3.8.8"
  }
 },
 "nbformat": 4,
 "nbformat_minor": 5
}
