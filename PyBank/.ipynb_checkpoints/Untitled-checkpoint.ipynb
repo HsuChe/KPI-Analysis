{
 "cells": [
  {
   "cell_type": "code",
   "execution_count": null,
   "id": "399199e9",
   "metadata": {},
   "outputs": [],
   "source": []
  },
  {
   "cell_type": "code",
   "execution_count": null,
   "id": "d9a3eddd",
   "metadata": {},
   "outputs": [],
   "source": []
  },
  {
   "cell_type": "code",
   "execution_count": null,
   "id": "70ec0cb8",
   "metadata": {},
   "outputs": [],
   "source": []
  },
  {
   "cell_type": "code",
   "execution_count": 13,
   "id": "067d81c2",
   "metadata": {},
   "outputs": [],
   "source": [
    "import os\n",
    "import csv\n",
    "\n",
    "csvpath = os.path.join(\"Resources\", \"budget_data.csv\")"
   ]
  },
  {
   "cell_type": "code",
   "execution_count": 46,
   "id": "43f141f9",
   "metadata": {},
   "outputs": [
    {
     "name": "stdout",
     "output_type": "stream",
     "text": [
      "116771\n",
      "-662642\n",
      "-391430\n",
      "379920\n",
      "212354\n"
     ]
    }
   ],
   "source": [
    "with open(csvpath) as csvfiles:\n",
    "    csvreader = csv.reader(csvfiles, delimiter = ',')\n",
    "    \n",
    "    profit_loses = []\n",
    "    for row in csvreader:\n",
    "        profit_loses.append(row[1])\n",
    "        \n",
    "    # change = i + 1 - i\n",
    "    \n",
    "    monthly_change = []\n",
    "    for i in range(1,len(profit_loses)-1):\n",
    "        monthly_change.append(int(profit_loses[i+1])-int(profit_loses[i]))\n",
    "        \n",
    "    for i in range(0,5):\n",
    "        print(monthly_change[i])\n",
    "    \n",
    "        \n",
    "    \n",
    "    "
   ]
  },
  {
   "cell_type": "markdown",
   "id": "024a8582",
   "metadata": {},
   "source": []
  }
 ],
 "metadata": {
  "kernelspec": {
   "display_name": "BootCampEnv",
   "language": "python",
   "name": "bootcampenv"
  },
  "language_info": {
   "codemirror_mode": {
    "name": "ipython",
    "version": 3
   },
   "file_extension": ".py",
   "mimetype": "text/x-python",
   "name": "python",
   "nbconvert_exporter": "python",
   "pygments_lexer": "ipython3",
   "version": "3.8.8"
  }
 },
 "nbformat": 4,
 "nbformat_minor": 5
}
