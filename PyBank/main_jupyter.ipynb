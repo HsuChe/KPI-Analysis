{
 "cells": [
  {
   "cell_type": "code",
   "execution_count": 2,
   "id": "ce69901e",
   "metadata": {},
   "outputs": [],
   "source": [
    "import os\n",
    "import csv"
   ]
  },
  {
   "cell_type": "code",
   "execution_count": 3,
   "id": "5421a4f5",
   "metadata": {},
   "outputs": [],
   "source": [
    "bank_csvpath = os.path.join(\"Resources\",\"budget_data.csv\")"
   ]
  },
  {
   "cell_type": "code",
   "execution_count": 4,
   "id": "7c6ef0dd",
   "metadata": {},
   "outputs": [
    {
     "name": "stdout",
     "output_type": "stream",
     "text": [
      "\n",
      "    \n",
      "    Financial Analysis\n",
      "    ----------------------------\n",
      "    Total Months: 86\n",
      "    Total: 38382578\n",
      "    Average Change: $-2315.12\n",
      "    Greatest Increase in Profits: Feb-2012 (1926159.0)\n",
      "    Greatest Decrease in Profits: Sep-2013 (-2196167.0)\n",
      "    \n",
      "    \n"
     ]
    }
   ],
   "source": [
    "with open(bank_csvpath) as csvfile:\n",
    "    csvreader = csv.reader(csvfile, delimiter = ',')\n",
    "    csvlist = []\n",
    "    for row in csvreader:\n",
    "        csvlist.append(row)\n",
    "    # total number of month in dataset\n",
    "    TotalMonth = len(csvlist)-1\n",
    "    \n",
    "    # total profit lost net\n",
    "    NetProfitLost = 0\n",
    "    for month in range(1,len(csvlist)):\n",
    "        NetProfitLost = NetProfitLost + int(csvlist[month][1])\n",
    "    Total = NetProfitLost\n",
    "\n",
    "    # average profit lost for the period\n",
    "    # iterate through each cell starting with range(1,len(csvlist))\n",
    "    TotalChange = 0\n",
    "    ChangeList = []\n",
    "    for month in range(1,len(csvlist)-1):\n",
    "        CurrentPrice, NextPrice = float(csvlist[month][1]), float(csvlist[month+1][1])\n",
    "        PriceChange = NextPrice - CurrentPrice\n",
    "        ChangeList.append(PriceChange)\n",
    "        TotalChange = TotalChange + PriceChange\n",
    "    AverageChange = sum(ChangeList) / len(ChangeList)\n",
    "    AverageChange = round(AverageChange,2)\n",
    "        \n",
    "    # Change = NextPrice - CurrentPrice\n",
    "    # TotalChange = TotalChange + Change\n",
    "    # AverageChange = TotalChange / len(csvlist) - 1\n",
    "    \n",
    "    GreatestIncrease = 0\n",
    "    GreatestDecrease = 0\n",
    "    \n",
    "    for change in ChangeList:\n",
    "        if GreatestIncrease < change:\n",
    "            GreatestIncrease = change\n",
    "        if GreatestDecrease > change:\n",
    "            GreatestDecrease = change\n",
    "    GiMonth = csvlist[ChangeList.index(GreatestIncrease)+2][0]\n",
    "    GdMonth = csvlist[ChangeList.index(GreatestDecrease)+2][0]\n",
    "    GreatestIncrease = f\"{GiMonth} ({GreatestIncrease})\"\n",
    "    GreatestDecrease = f\"{GdMonth} ({GreatestDecrease})\"\n",
    "    \n",
    "    print(f'''\n",
    "    \n",
    "    Financial Analysis\n",
    "    ----------------------------\n",
    "    Total Months: {TotalMonth}\n",
    "    Total: {Total}\n",
    "    Average Change: ${AverageChange}\n",
    "    Greatest Increase in Profits: {GreatestIncrease}\n",
    "    Greatest Decrease in Profits: {GreatestDecrease}\n",
    "    \n",
    "    ''')\n",
    "    "
   ]
  },
  {
   "cell_type": "code",
   "execution_count": null,
   "id": "c9ff9e12",
   "metadata": {},
   "outputs": [],
   "source": []
  },
  {
   "cell_type": "code",
   "execution_count": null,
   "id": "e3df518f",
   "metadata": {},
   "outputs": [],
   "source": []
  }
 ],
 "metadata": {
  "kernelspec": {
   "display_name": "Python 3",
   "language": "python",
   "name": "python3"
  },
  "language_info": {
   "codemirror_mode": {
    "name": "ipython",
    "version": 3
   },
   "file_extension": ".py",
   "mimetype": "text/x-python",
   "name": "python",
   "nbconvert_exporter": "python",
   "pygments_lexer": "ipython3",
   "version": "3.8.8"
  }
 },
 "nbformat": 4,
 "nbformat_minor": 5
}
